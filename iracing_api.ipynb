{
 "cells": [
  {
   "metadata": {},
   "cell_type": "markdown",
   "source": [
    "This is a notebook that can be used to pull data from the iRacing API.\n",
    "\n",
    "https://forums.iracing.com/discussion/15068/general-availability-of-data-api/p1\n",
    "\n",
    "uses the [iracingdataapi package](https://github.com/jasondilworth56/iracingdataapi) to pull data from the iRacing API.\n",
    "\n"
   ],
   "id": "68116e54d56a7716"
  },
  {
   "metadata": {},
   "cell_type": "code",
   "source": "!pip install git+https://github.com/jasondilworth56/iracingdataapi.git\n",
   "id": "6e49490c9d1b2e76",
   "outputs": [],
   "execution_count": null
  },
  {
   "metadata": {},
   "cell_type": "code",
   "source": [
    "from iracingdataapi.client import irDataClient\n",
    "\n",
    "import os\n",
    "\n",
    "username = os.getenv(\"IRACING_USERNAME\")\n",
    "password = os.getenv(\"IRACING_PASSWORD\")\n",
    "# alternatively you can set the username and password directly here\n",
    "# fill in your username and password, an uncomment the lines below\n",
    "# username = \"putyourusernamehereitisusuallyyouremailaddress\"\n",
    "# password = \"putyourpasswordhere\"\n",
    "\n",
    "customer_id = 643506 # this is the customer id for getting user stats\n",
    "\n",
    "def calculate_f499_points(start, finish, incident_count):\n",
    "    return (start - finish) + (4 if incident_count == 0 else -1 * (2 * incident_count))\n",
    "\n",
    "def get_session_link(subsession_id, new_ui=False):\n",
    "    if new_ui:\n",
    "        format = \"https://members-ng.iracing.com/racing/results-stats/results?subsessionid=\"\n",
    "    else:\n",
    "        format = \"https://members.iracing.com/membersite/member/EventResult.do?&subsessionid=\"\n",
    "    \n",
    "    return f\"{format}{subsession_id})\"\n",
    "\n",
    "idc = irDataClient(username=username, password=password)\n",
    "\n",
    "# if you do not pass a customer_id as the param to the method call, it will default to the customer_id of the user you are logged in as\n",
    "stats = idc.stats_member_recent_races() \n",
    "\n",
    "# get the stats for the last 10 races\n",
    "last_10_races = stats['races'][:10]\n",
    "\n",
    "# iterate over the last 10 races\n",
    "for i, race in enumerate(last_10_races, start=1):\n",
    "    start_position = race['start_position']\n",
    "    finish_position = race['finish_position']\n",
    "    incident_count = race['incidents']\n",
    "    points = calculate_f499_points(start_position, finish_position, incident_count)\n",
    "    \n",
    "    \n",
    "    print(f\"Race {race['session_start_time']}:\")\n",
    "    print(f\"Session Link: {get_session_link(race['subsession_id'], True)}\")\n",
    "    print(f\"Series: {race['series_name']}\")\n",
    "    print(f\"Track: {race['track']['track_name']}\")\n",
    "    print(f\"Start Position: {start_position if start_position else 'N/A'}\")\n",
    "    print(f\"Finish Position: {finish_position if finish_position else 'N/A'}\")\n",
    "    print(f\"Number of Incidents: {incident_count}\")\n",
    "    print(f\"Points: {points}\")\n",
    "    print()"
   ],
   "id": "92980e7a43b220f5",
   "outputs": [],
   "execution_count": null
  },
  {
   "metadata": {},
   "cell_type": "code",
   "source": "",
   "id": "c06d097fcd662230",
   "outputs": [],
   "execution_count": null
  }
 ],
 "metadata": {
  "kernelspec": {
   "display_name": "Python 3",
   "language": "python",
   "name": "python3"
  },
  "language_info": {
   "codemirror_mode": {
    "name": "ipython",
    "version": 2
   },
   "file_extension": ".py",
   "mimetype": "text/x-python",
   "name": "python",
   "nbconvert_exporter": "python",
   "pygments_lexer": "ipython2",
   "version": "2.7.6"
  }
 },
 "nbformat": 4,
 "nbformat_minor": 5
}
